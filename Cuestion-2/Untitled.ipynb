{
 "cells": [
  {
   "cell_type": "markdown",
   "id": "adab3d00-a986-4cba-9175-87263db3c184",
   "metadata": {},
   "source": [
    "Transformacion de las variables"
   ]
  },
  {
   "cell_type": "code",
   "execution_count": 1,
   "id": "394e80d1-2cd8-41a1-bba4-598eed66ff31",
   "metadata": {},
   "outputs": [],
   "source": [
    "import os\n",
    "import nibabel as nib\n",
    "import numpy as np"
   ]
  },
  {
   "cell_type": "code",
   "execution_count": 2,
   "id": "aa8ca764-7dd2-420d-ae92-3059c3aff358",
   "metadata": {},
   "outputs": [],
   "source": [
    "os.chdir('C:/Users/pablo/Desktop/PRACTICA 2 APIC')"
   ]
  },
  {
   "cell_type": "code",
   "execution_count": 3,
   "id": "ef1f0bb7-cd7e-4c2b-a936-dd029e8c0a14",
   "metadata": {},
   "outputs": [],
   "source": [
    "images_test_path = 'images_test.nii.gz'\n",
    "labels_test_path = 'labels_test.nii.gz'\n",
    "y_pred_path = 'y_pred.nii.gz'"
   ]
  },
  {
   "cell_type": "code",
   "execution_count": 4,
   "id": "db28580a-c6a0-45b8-9474-b20fb02c3abc",
   "metadata": {},
   "outputs": [],
   "source": [
    "images_test = nib.load(images_test_path)\n",
    "labels_test = nib.load(labels_test_path)\n",
    "y_pred = nib.load(y_pred_path)"
   ]
  },
  {
   "cell_type": "code",
   "execution_count": 5,
   "id": "4f6d20a4-864f-46ad-a2f7-0c30dfbae9df",
   "metadata": {},
   "outputs": [
    {
     "data": {
      "text/plain": [
       "(23, 128, 128, 3)"
      ]
     },
     "execution_count": 5,
     "metadata": {},
     "output_type": "execute_result"
    }
   ],
   "source": [
    "images_test.shape"
   ]
  },
  {
   "cell_type": "code",
   "execution_count": 13,
   "id": "66ecd45d-dea7-490f-8037-90c878d513e3",
   "metadata": {},
   "outputs": [
    {
     "name": "stdout",
     "output_type": "stream",
     "text": [
      "(88, 128, 128, 3)\n"
     ]
    }
   ],
   "source": [
    "nuevaimg = []\n",
    "images_test = np.load('etiquetas.npy')\n",
    "for i in range(0, len(images_test)-1):\n",
    "    actual = images_test[i]\n",
    "    \n",
    "    sig = images_test[i+1]\n",
    "    \n",
    "    inter = (actual + sig)/2\n",
    "    espacio = np.zeros_like(actual)\n",
    "    nuevaimg.append(actual)\n",
    "    nuevaimg.append(actual)\n",
    "    nuevaimg.append(inter)\n",
    "    nuevaimg.append(inter)\n",
    "nuevaimg = np.array(nuevaimg)\n",
    "print(nuevaimg.shape)  \n",
    "\n",
    "\n",
    "nuevaimg = nib.Nifti1Image(nuevaimg, affine=np.eye(4))\n",
    "nib.save(nuevaimg, 'prueba_l.nii.gz')"
   ]
  },
  {
   "cell_type": "code",
   "execution_count": null,
   "id": "c6538d51-b39c-4f50-a7da-186e878644ff",
   "metadata": {},
   "outputs": [],
   "source": [
    "# import matplotlib.pyplot as plt\n",
    "# import cv2 as cv\n",
    "# imagenes = np.load('imagenes.npy')\n",
    "# def getKMeans(img, K):\n",
    "#     img = cv.GaussianBlur(img,(5,5),0)\n",
    "#     Z = img.reshape((-1,3))\n",
    "#     # convert to np.float32\n",
    "#     Z = np.float32(Z)\n",
    "#     # define criteria, number of clusters(K) and apply kmeans()\n",
    "#     criteria = (cv.TERM_CRITERIA_EPS + cv.TERM_CRITERIA_MAX_ITER, 10, 1.0)#10 1.0\n",
    "#     ret,label,center=cv.kmeans(Z,K,None,criteria,10,cv.KMEANS_PP_CENTERS)\n",
    "#     # Now convert back into uint8, and make original image\n",
    "#     center = np.uint8(center)\n",
    "#     res = center[label.flatten()]\n",
    "#     res2 = res.reshape((img.shape))\n",
    "    \n",
    "#     return res2\n",
    "\n",
    "# def color2gray(img):\n",
    "#     b,g,r = cv.split(img)\n",
    "#     b = b.ravel()\n",
    "#     g = g.ravel()\n",
    "#     r = r.ravel()\n",
    "#     img = np.array([np.sqrt(b[i]**2 + g[i]**2 + r[i]**2) for i in range(b.shape[0])])\n",
    "#     img = np.reshape(img, (128, 128, 1))\n",
    "#     return img\n",
    "\n",
    "# imgs = images_test.get_fdata()\n",
    "# labels = labels_test.get_fdata()\n",
    "# resultado = []\n",
    "\n",
    "# for i in range(len(imagenes)): \n",
    "#     img = getKMeans(imagenes[i], 8)\n",
    "#     img_bw = np.round(color2gray(img), 0)\n",
    "#     # img_bw = np.where((140<=img_bw) & (img_bw<=125), 0, img_bw)\n",
    "    \n",
    "#     print(np.unique(img_bw))\n",
    "#     ret,th1 = cv.threshold(img_bw,125, 140,cv.THRESH_BINARY)\n",
    "#     resultado.append(th1)\n",
    "    \n",
    "    \n",
    "#     imagen_f = cv.merge([labels[i], labels[i],th1])\n",
    "#     plt.figure(figsize=(10,10))\n",
    "#     plt.subplot(1, 4, 1)\n",
    "#     plt.imshow(imgs[i])\n",
    "#     plt.axis('off')\n",
    "#     plt.title('Original')\n",
    "#     plt.subplot(1, 4, 2)\n",
    "#     plt.imshow(labels[i], 'gray')\n",
    "#     plt.axis('off')\n",
    "#     plt.title('Ground truth')\n",
    "#     plt.subplot(1, 4, 3)\n",
    "#     plt.imshow(th1, 'gray')\n",
    "#     plt.axis('off')\n",
    "#     plt.title('Segmentation')\n",
    "#     plt.subplot(1, 4, 4)\n",
    "#     plt.imshow(imagen_f)\n",
    "#     plt.axis('off')\n",
    "#     plt.title('Comparation')\n",
    "#     plt.tight_layout()\n",
    "#     plt.savefig('C:/Users/pablo/Desktop/PRACTICA 2 APIC/imagenes segment/image_'+str(i+1)+'.png')\n",
    "#     plt.show()\n",
    "    \n",
    "# resultado = np.array(resultado)"
   ]
  },
  {
   "cell_type": "code",
   "execution_count": null,
   "id": "ece2c25d-2544-4422-adfd-fd778af9f8ad",
   "metadata": {},
   "outputs": [],
   "source": [
    "# path = 'C:/Users/pablo/Desktop/Trabajo fin de grado/dataset_prueba/sub-1001/anat/sub-1001__T1w.nii.gz'\n",
    "# header = nib.load(path).header\n",
    "# nuevo_af = nib.load(path).affine"
   ]
  },
  {
   "cell_type": "code",
   "execution_count": null,
   "id": "450146c8-65a6-4153-8287-5269b52c4a55",
   "metadata": {},
   "outputs": [],
   "source": []
  },
  {
   "cell_type": "code",
   "execution_count": null,
   "id": "cfa60b4c-b03c-4fed-bcc5-d631d33bbd01",
   "metadata": {},
   "outputs": [],
   "source": [
    "images_test_1 = images_test.get_fdata()\n",
    "labels_test_1 = labels_test.get_fdata()\n",
    "y_pred_1 = y_pred.get_fdata()"
   ]
  },
  {
   "cell_type": "code",
   "execution_count": null,
   "id": "4f1d08e0-0477-4db4-8ac8-75139ce35a2e",
   "metadata": {},
   "outputs": [],
   "source": [
    "# header['scl_inter'] = 2\n",
    "# header['pixdim'] = [1.,  2.,  2.,  1.,  0.,  0.,  0.,  0.]\n",
    "# header['dim'] = [3, 166, 166, 166, 1, 1, 1, 1]\n",
    "nuevo_af = np.array([[   1.    ,    0.    ,    0.    , 0 ],\n",
    "                     [   0.    ,    1.    ,    0.    , 0 ],\n",
    "                     [   0.    ,    0.    ,    1.    , 0 ],\n",
    "                     [   0.    ,    0.    ,    0.    , 1.]])"
   ]
  },
  {
   "cell_type": "code",
   "execution_count": null,
   "id": "227e0e47-b65b-4a97-b24d-4ab116032ae8",
   "metadata": {},
   "outputs": [],
   "source": [
    "imgs_test_nii_1 = nib.Nifti1Image(images_test_1, affine=nuevo_af)#, header = header\n",
    "labels_test_nii_1 = nib.Nifti1Image(labels_test_1, affine=nuevo_af)#, header = header\n",
    "y_pred_nii_1 = nib.Nifti1Image(y_pred_1, affine=nuevo_af)#, header = header\n",
    "\n",
    "header['scl_inter'] = 2"
   ]
  },
  {
   "cell_type": "code",
   "execution_count": null,
   "id": "68075ada-8cf8-4d89-ae03-8c20dd39dafa",
   "metadata": {},
   "outputs": [],
   "source": [
    "nib.save(imgs_test_nii_1, 'images_test_1.nii.gz')\n",
    "nib.save(labels_test_nii_1, 'labels_test_1.nii.gz')\n",
    "nib.save(y_pred_nii_1, 'y_pred_1.nii.gz')"
   ]
  },
  {
   "cell_type": "code",
   "execution_count": null,
   "id": "9219f3d3-6ef9-404d-8f5b-d4d6d6ee0081",
   "metadata": {},
   "outputs": [],
   "source": [
    "print(header)"
   ]
  },
  {
   "cell_type": "code",
   "execution_count": null,
   "id": "5aae3878-c6d4-4618-aba2-339334ec31bc",
   "metadata": {},
   "outputs": [],
   "source": []
  },
  {
   "cell_type": "code",
   "execution_count": null,
   "id": "c8575aae-c7ab-4299-a25f-78c88b2d01b1",
   "metadata": {},
   "outputs": [],
   "source": []
  },
  {
   "cell_type": "code",
   "execution_count": null,
   "id": "043c94a6-7ef0-4d97-9ca1-a9a8acc7e61e",
   "metadata": {},
   "outputs": [],
   "source": []
  },
  {
   "cell_type": "code",
   "execution_count": null,
   "id": "af7f408f-b03f-461f-a695-10fc72e98d9d",
   "metadata": {},
   "outputs": [],
   "source": []
  },
  {
   "cell_type": "code",
   "execution_count": null,
   "id": "c2acbd41-b2cf-4adf-a3a4-55ea81725461",
   "metadata": {},
   "outputs": [],
   "source": []
  }
 ],
 "metadata": {
  "kernelspec": {
   "display_name": "Python 3 (ipykernel)",
   "language": "python",
   "name": "python3"
  },
  "language_info": {
   "codemirror_mode": {
    "name": "ipython",
    "version": 3
   },
   "file_extension": ".py",
   "mimetype": "text/x-python",
   "name": "python",
   "nbconvert_exporter": "python",
   "pygments_lexer": "ipython3",
   "version": "3.9.12"
  }
 },
 "nbformat": 4,
 "nbformat_minor": 5
}
